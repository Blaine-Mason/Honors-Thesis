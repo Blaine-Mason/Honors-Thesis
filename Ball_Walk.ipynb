{
 "cells": [
  {
   "cell_type": "code",
   "execution_count": 1,
   "metadata": {},
   "outputs": [],
   "source": [
    "import numpy as np\n",
    "import numpy.linalg as la\n",
    "import matplotlib.pyplot as plt"
   ]
  },
  {
   "cell_type": "code",
   "execution_count": 36,
   "metadata": {},
   "outputs": [],
   "source": [
    "def oracle(X):\n",
    "    return (np.sum(X) <= 100)"
   ]
  },
  {
   "cell_type": "code",
   "execution_count": null,
   "metadata": {},
   "outputs": [],
   "source": [
    "X = np.array([0, 0]).reshape(2,1)\n",
    "calls = 0\n",
    "pos = X\n",
    "out_pos = X\n",
    "\n",
    "delta = .989\n",
    "for j in range(1,1000):\n",
    "    for i in range(1, 100):\n",
    "        tmpx = X + np.random.uniform(0, delta, (2,1))\n",
    "        if(oracle(tmpx)):\n",
    "            calls = calls + 1\n",
    "            X = tmpx\n",
    "            pos = np.hstack((pos, X))\n",
    "            plt.plot(pos[0, :], pos[1,:], 'o')\n",
    "        else:\n",
    "            break;\n",
    "    X = np.array([0,0]).reshape(2,1)\n",
    "    pos = X\n",
    "    out_pos = X\n",
    "print(calls)\n",
    "plt.show()"
   ]
  },
  {
   "cell_type": "code",
   "execution_count": null,
   "metadata": {},
   "outputs": [],
   "source": []
  }
 ],
 "metadata": {
  "kernelspec": {
   "display_name": "Python 3",
   "language": "python",
   "name": "python3"
  },
  "language_info": {
   "codemirror_mode": {
    "name": "ipython",
    "version": 3
   },
   "file_extension": ".py",
   "mimetype": "text/x-python",
   "name": "python",
   "nbconvert_exporter": "python",
   "pygments_lexer": "ipython3",
   "version": "3.6.7"
  }
 },
 "nbformat": 4,
 "nbformat_minor": 2
}

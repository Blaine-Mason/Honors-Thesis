{
 "cells": [
  {
   "cell_type": "code",
   "execution_count": 2,
   "metadata": {},
   "outputs": [],
   "source": [
    "import numpy as np\n",
    "import numpy.linalg as la\n",
    "import matplotlib.pyplot as plt\n",
    "from scipy.optimize import lsq_linear\n",
    "import numpy.linalg as la\n",
    "import itertools"
   ]
  },
  {
   "cell_type": "code",
   "execution_count": 11,
   "metadata": {},
   "outputs": [],
   "source": [
    "def generate_Z(A):\n",
    "    dim = 3\n",
    "    l = list(set([j \n",
    "     for i in itertools.combinations_with_replacement([-1,1],dim)\n",
    "     for j in itertools.permutations(i,dim)]))\n",
    "    x = np.array(l)\n",
    "    z = A@x.T\n",
    "    print(z)\n",
    "    plt.plot(z[0,:], z[1,:], \"co\", alpha= 1, markersize=9)"
   ]
  },
  {
   "cell_type": "code",
   "execution_count": 12,
   "metadata": {},
   "outputs": [],
   "source": [
    "def oracle(X, A):\n",
    "    l = list(itertools.product([-1, 1], repeat=3))\n",
    "    L = np.array(l)\n",
    "    Z = A@L.T\n",
    "    #print(Z)\n",
    "    X = X.reshape(2)\n",
    "    x = lsq_linear(Z, X, bounds=(-1, 1), lsmr_tol='auto' ,verbose = 0)\n",
    "    return(x.cost <= 1e-70)"
   ]
  },
  {
   "cell_type": "code",
   "execution_count": 13,
   "metadata": {},
   "outputs": [
    {
     "name": "stdout",
     "output_type": "stream",
     "text": [
      "[[-7  3 -9  7  1 -3 -1  9]\n",
      " [-3  1 -9  3 -5 -1  5  9]]\n"
     ]
    },
    {
     "data": {
      "image/png": "[encoded data removed]",
      "text/plain": [
       "<Figure size 432x288 with 1 Axes>"
      ]
     },
     "metadata": {
      "needs_background": "light"
     },
     "output_type": "display_data"
    }
   ],
   "source": [
    "A = np.array([[3, 1, 5], [4, 3, 2]]);\n",
    "generate_Z(A)\n",
    "U = np.random.uniform(-10,10,(2,10))\n",
    "for x,y in zip(U[0, :], U[1, :]):\n",
    "    point = np.array([[x],[y]])\n",
    "    if(oracle(point, A)):\n",
    "        plt.plot(point[0], point[1], \"go\")\n",
    "    else:\n",
    "        plt.plot(point[0], point[1], \"ro\",  alpha=0.30)\n",
    "plt.show()"
   ]
  },
  {
   "cell_type": "code",
   "execution_count": 17,
   "metadata": {},
   "outputs": [
    {
     "data": {
      "image/png": "[encoded data removed]",
      "text/plain": [
       "<Figure size 432x288 with 1 Axes>"
      ]
     },
     "metadata": {
      "needs_background": "light"
     },
     "output_type": "display_data"
    }
   ],
   "source": [
    "# Make a list/array for the final points\n",
    "#tmpx - random n-stdgaussian, normalized, then scaled by delta(uniform point in the unit sphere)\n",
    "X = np.array([0, 0]).reshape(2,1)\n",
    "A = np.array([[0, 3, 4], [4, 3, 1]]);\n",
    "generate_Z(A)\n",
    "calls = 0\n",
    "pos = X\n",
    "out_pos = X\n",
    "delta = 1\n",
    "for j in range(1,1000):\n",
    "    for i in range(1,10):\n",
    "        temp = np.random.normal(0,1,(2,1))\n",
    "        temp = temp/la.norm(temp)\n",
    "        temp = temp*delta\n",
    "        tmpx = X + temp \n",
    "        boolean = oracle(tmpx, A)\n",
    "        if(boolean):\n",
    "            calls = calls + 1\n",
    "            X = tmpx\n",
    "            pos = np.hstack((pos, X))\n",
    "            plt.plot(pos[0, :], pos[1,:], 'ro')\n",
    "    X = np.array([0, 0]).reshape(2,1)\n",
    "\n",
    "plt.show()"
   ]
  },
  {
   "cell_type": "code",
   "execution_count": 126,
   "metadata": {},
   "outputs": [
    {
     "name": "stdout",
     "output_type": "stream",
     "text": [
      "33\n"
     ]
    }
   ],
   "source": [
    "print(calls)"
   ]
  },
  {
   "cell_type": "code",
   "execution_count": null,
   "metadata": {},
   "outputs": [],
   "source": []
  }
 ],
 "metadata": {
  "kernelspec": {
   "display_name": "Python 3",
   "language": "python",
   "name": "python3"
  },
  "language_info": {
   "codemirror_mode": {
    "name": "ipython",
    "version": 3
   },
   "file_extension": ".py",
   "mimetype": "text/x-python",
   "name": "python",
   "nbconvert_exporter": "python",
   "pygments_lexer": "ipython3",
   "version": "3.8.5"
  }
 },
 "nbformat": 4,
 "nbformat_minor": 4
}

{
 "cells": [
  {
   "cell_type": "code",
   "execution_count": 12,
   "metadata": {},
   "outputs": [],
   "source": [
    "import numpy as np\n",
    "import numpy.linalg as la\n",
    "import matplotlib.pyplot as plt\n",
    "from scipy.optimize import lsq_linear\n",
    "import itertools"
   ]
  },
  {
   "cell_type": "code",
   "execution_count": 13,
   "metadata": {},
   "outputs": [],
   "source": [
    "def generate_Z(A):\n",
    "    l = list(itertools.product([-1, 1], repeat=3))\n",
    "    #print(l)\n",
    "    x = np.array(l)\n",
    "    z = A@x.T\n",
    "    plt.plot(z[0,:], z[1,:], \"o\")"
   ]
  },
  {
   "cell_type": "code",
   "execution_count": 14,
   "metadata": {},
   "outputs": [],
   "source": [
    "def oracle(X, A):\n",
    "    l = list(itertools.product([-1, 1], repeat=3))\n",
    "    L = np.array(l)\n",
    "    Z = A@L.T\n",
    "    X = X.reshape(2)\n",
    "    x = lsq_linear(Z, X, bounds=(-1, 1), verbose = 0)\n",
    "    return(x.cost == 0.0)"
   ]
  },
  {
   "cell_type": "code",
   "execution_count": 15,
   "metadata": {},
   "outputs": [
    {
     "data": {
      "image/png": "[encoded data removed]",
      "text/plain": [
       "<Figure size 432x288 with 1 Axes>"
      ]
     },
     "metadata": {
      "needs_background": "light"
     },
     "output_type": "display_data"
    }
   ],
   "source": [
    "# Make a list/array for the final points\n",
    "#tmpx - random n-stdgaussian, normalized, then scaled by delta(uniform point in the unit sphere)\n",
    "X = np.array([0, 0]).reshape(2,1)\n",
    "A = np.array([[0, 3, 4], [4, 3, 1]]);\n",
    "generate_Z(A)\n",
    "calls = 0\n",
    "pos = X\n",
    "out_pos = X\n",
    "delta = .98\n",
    "for j in range(1,1000):\n",
    "    for i in range(1, 100):\n",
    "        tmpx = X + np.random.uniform(0, delta, (2,1))\n",
    "        if(oracle(tmpx, A)):\n",
    "            calls = calls + 1\n",
    "            X = tmpx\n",
    "            pos = np.hstack((pos, X))\n",
    "            #print(pos)\n",
    "            plt.plot(pos[0, :], pos[1,:], 'ro')\n",
    "        else:\n",
    "            #print(tmpx)\n",
    "            break;\n",
    "    X = np.array([0, 0]).reshape(2,1)\n",
    "    pos = X\n",
    "    out_pos = X\n",
    "\n",
    "plt.show()"
   ]
  },
  {
   "cell_type": "code",
   "execution_count": 31,
   "metadata": {},
   "outputs": [
    {
     "name": "stdout",
     "output_type": "stream",
     "text": [
      "65\n"
     ]
    }
   ],
   "source": [
    "print(calls)"
   ]
  },
  {
   "cell_type": "code",
   "execution_count": null,
   "metadata": {},
   "outputs": [],
   "source": []
  }
 ],
 "metadata": {
  "kernelspec": {
   "display_name": "Python 3",
   "language": "python",
   "name": "python3"
  },
  "language_info": {
   "codemirror_mode": {
    "name": "ipython",
    "version": 3
   },
   "file_extension": ".py",
   "mimetype": "text/x-python",
   "name": "python",
   "nbconvert_exporter": "python",
   "pygments_lexer": "ipython3",
   "version": "3.7.6"
  }
 },
 "nbformat": 4,
 "nbformat_minor": 4
}

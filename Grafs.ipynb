{
 "cells": [
  {
   "cell_type": "code",
   "execution_count": 418,
   "metadata": {},
   "outputs": [],
   "source": [
    "import numpy as np\n",
    "import pandas as pd"
   ]
  },
  {
   "cell_type": "code",
   "execution_count": 419,
   "metadata": {},
   "outputs": [],
   "source": [
    "import numpy.linalg as la\n",
    "import scipy as scipy\n",
    "from matplotlib import pyplot as plt \n",
    "from scipy import signal\n",
    "from sklearn.decomposition import fastica\n",
    "from itertools import permutations, product\n",
    "from oct2py import octave"
   ]
  },
  {
   "cell_type": "code",
   "execution_count": 420,
   "metadata": {},
   "outputs": [],
   "source": [
    "octave.addpath('~/Documents/Github/Honors-Thesis/fastica');"
   ]
  },
  {
   "cell_type": "code",
   "execution_count": 421,
   "metadata": {},
   "outputs": [],
   "source": [
    "#Thank you so much ninjagecko for this pretty method\n",
    "#to solve all of my problems\n",
    "def plusAndMinusPermutations(items):\n",
    "    for p in permutations(items):\n",
    "        for signs in product([-1,1], repeat=len(items)):\n",
    "            yield [a*sign for a,sign in zip(p,signs)]"
   ]
  },
  {
   "cell_type": "code",
   "execution_count": 422,
   "metadata": {},
   "outputs": [],
   "source": [
    "def Frobenius_Norm(A, A_):\n",
    "    return np.sqrt(np.trace(np.subtract(A, A_)@np.subtract(A,A_).conj().T))"
   ]
  },
  {
   "cell_type": "code",
   "execution_count": 423,
   "metadata": {},
   "outputs": [],
   "source": [
    "def Get_Min(A,A_):\n",
    "    i = np.eye(A.shape[0])\n",
    "    perm = list(plusAndMinusPermutations(i))\n",
    "    min = Frobenius_Norm(A, A_)\n",
    "    for j in perm:\n",
    "        j = np.array(j)\n",
    "        j[j == -0] = 0\n",
    "        #rint(j)\n",
    "        mat = A@np.array(j)\n",
    "        #rint(\"Mat: \\n\", mat, \"\\n\")\n",
    "        #rint(\"\\nAnswer: \", A_)\n",
    "        temp = Frobenius_Norm(mat, A_)\n",
    "        #rint(\"Temp: \", temp)\n",
    "        #rint(\"\\n Min: \", min)\n",
    "        if(temp < min):\n",
    "            min = temp\n",
    "    \n",
    "    return min"
   ]
  },
  {
   "cell_type": "code",
   "execution_count": 424,
   "metadata": {},
   "outputs": [],
   "source": [
    "def normalize_cols(A):\n",
    "    norms = la.norm(A,axis=0)\n",
    "    return A / np.tile(norms,(2,1))"
   ]
  },
  {
   "cell_type": "code",
   "execution_count": 425,
   "metadata": {},
   "outputs": [],
   "source": [
    "def Error(X):\n",
    "    A_EST = np.array(octave.o2pfastica(X))\n",
    "    print(A_EST)\n",
    "    return Get_Min(A_EST, A)"
   ]
  },
  {
   "cell_type": "code",
   "execution_count": 426,
   "metadata": {},
   "outputs": [],
   "source": [
    "BallWalk = pd.read_csv('ball.csv', delimiter=',')\n",
    "BallWalk = BallWalk.to_numpy()\n",
    "BallWalk = BallWalk[:,1:]\n",
    "\n",
    "Billiard = pd.read_csv('bill.csv', delimiter=',')\n",
    "Billiard = Billiard.to_numpy()\n",
    "Billiard = Billiard[:,1:]\n",
    "\n",
    "HitRun = pd.read_csv('hr.csv', delimiter=',')\n",
    "HitRun = HitRun.to_numpy()\n",
    "HitRun = HitRun[:,1:]"
   ]
  },
  {
   "cell_type": "code",
   "execution_count": 427,
   "metadata": {},
   "outputs": [
    {
     "data": {
      "text/plain": [
       "(2, 30000)"
      ]
     },
     "execution_count": 427,
     "metadata": {},
     "output_type": "execute_result"
    }
   ],
   "source": [
    "BallWalk.shape"
   ]
  },
  {
   "cell_type": "code",
   "execution_count": 428,
   "metadata": {},
   "outputs": [
    {
     "name": "stdout",
     "output_type": "stream",
     "text": [
      "[[ 3.24690685 -5.34654372 -6.18171729 ... -5.31229703  6.84890705\n",
      "  -6.37787025]\n",
      " [-1.43396812 -6.28043455 -6.68970281 ... -5.31308969  4.39372028\n",
      "  -6.80090262]]\n"
     ]
    },
    {
     "data": {
      "text/plain": [
       "(array([ 853., 2423., 3654., 3968., 3866., 4005., 4004., 3693., 2627.,\n",
       "         907.]),\n",
       " array([-8.9597338 , -7.17238328, -5.38503276, -3.59768224, -1.81033171,\n",
       "        -0.02298119,  1.76436933,  3.55171985,  5.33907037,  7.12642089,\n",
       "         8.91377142]),\n",
       " <a list of 10 Patch objects>)"
      ]
     },
     "execution_count": 428,
     "metadata": {},
     "output_type": "execute_result"
    },
    {
     "data": {
      "image/png": "[encoded data removed]",
      "text/plain": [
       "<Figure size 432x288 with 2 Axes>"
      ]
     },
     "metadata": {
      "needs_background": "light"
     },
     "output_type": "display_data"
    }
   ],
   "source": [
    "n_bins = 10\n",
    "\n",
    "fig, axs = plt.subplots(1, 2, sharey=True, tight_layout=True)\n",
    "\n",
    "# We can set the number of bins with the `bins` kwarg\n",
    "print(BallWalk)\n",
    "axs[0].hist(BallWalk[0,:], bins=n_bins)\n",
    "axs[1].hist(BallWalk[1,:], bins=n_bins)"
   ]
  },
  {
   "cell_type": "code",
   "execution_count": 429,
   "metadata": {},
   "outputs": [
    {
     "data": {
      "text/plain": [
       "(array([ 875., 2492., 3663., 3903., 4021., 3930., 3977., 3689., 2541.,\n",
       "         909.]),\n",
       " array([-8.99081491, -7.20157776, -5.41234061, -3.62310346, -1.83386631,\n",
       "        -0.04462916,  1.74460798,  3.53384513,  5.32308228,  7.11231943,\n",
       "         8.90155658]),\n",
       " <a list of 10 Patch objects>)"
      ]
     },
     "execution_count": 429,
     "metadata": {},
     "output_type": "execute_result"
    },
    {
     "data": {
      "image/png": "[encoded data removed]",
      "text/plain": [
       "<Figure size 432x288 with 2 Axes>"
      ]
     },
     "metadata": {
      "needs_background": "light"
     },
     "output_type": "display_data"
    }
   ],
   "source": [
    "n_bins = 10\n",
    "\n",
    "fig, axs = plt.subplots(1, 2, sharey=True, tight_layout=True)\n",
    "\n",
    "# We can set the number of bins with the `bins` kwarg\n",
    "axs[0].hist(Billiard[0,:], bins=n_bins)\n",
    "axs[1].hist(Billiard[1,:], bins=n_bins)"
   ]
  },
  {
   "cell_type": "code",
   "execution_count": 430,
   "metadata": {},
   "outputs": [
    {
     "data": {
      "text/plain": [
       "(array([ 924., 2489., 3717., 3893., 3924., 3956., 4114., 3731., 2390.,\n",
       "         862.]),\n",
       " array([-8.92272075, -7.13184665, -5.34097256, -3.55009846, -1.75922437,\n",
       "         0.03164973,  1.82252382,  3.61339792,  5.40427201,  7.19514611,\n",
       "         8.9860202 ]),\n",
       " <a list of 10 Patch objects>)"
      ]
     },
     "execution_count": 430,
     "metadata": {},
     "output_type": "execute_result"
    },
    {
     "data": {
      "image/png": "[encoded data removed]",
      "text/plain": [
       "<Figure size 432x288 with 2 Axes>"
      ]
     },
     "metadata": {
      "needs_background": "light"
     },
     "output_type": "display_data"
    }
   ],
   "source": [
    "n_bins = 10\n",
    "\n",
    "fig, axs = plt.subplots(1, 2, sharey=True, tight_layout=True)\n",
    "\n",
    "# We can set the number of bins with the `bins` kwarg\n",
    "axs[0].hist(HitRun[0,:], bins=n_bins)\n",
    "axs[1].hist(HitRun[1,:], bins=n_bins)"
   ]
  },
  {
   "cell_type": "code",
   "execution_count": 432,
   "metadata": {},
   "outputs": [
    {
     "name": "stdout",
     "output_type": "stream",
     "text": [
      "[[0.54207828 0.74777885 0.85243094 ... 0.17975945 0.20356095 0.1743673 ]\n",
      " [0.64877822 0.18668947 0.13971788 ... 0.08192888 0.24495558 0.70826841]]\n"
     ]
    },
    {
     "data": {
      "text/plain": [
       "(array([69., 70., 76., 68., 75., 64., 70., 76., 63., 66., 67., 54., 57.,\n",
       "        60., 65.]),\n",
       " array([2.37525380e-04, 6.68733008e-02, 1.33509076e-01, 2.00144852e-01,\n",
       "        2.66780627e-01, 3.33416402e-01, 4.00052178e-01, 4.66687953e-01,\n",
       "        5.33323728e-01, 5.99959504e-01, 6.66595279e-01, 7.33231055e-01,\n",
       "        7.99866830e-01, 8.66502605e-01, 9.33138381e-01, 9.99774156e-01]),\n",
       " <a list of 15 Patch objects>)"
      ]
     },
     "execution_count": 432,
     "metadata": {},
     "output_type": "execute_result"
    },
    {
     "data": {
      "image/png": "[encoded data removed]",
      "text/plain": [
       "<Figure size 432x288 with 2 Axes>"
      ]
     },
     "metadata": {
      "needs_background": "light"
     },
     "output_type": "display_data"
    }
   ],
   "source": [
    "n_bins = 15\n",
    "U = np.random.uniform(0,1,(2,1000))\n",
    "fig, axs = plt.subplots(1, 2, sharey=True, tight_layout=True)\n",
    "\n",
    "# We can set the number of bins with the `bins` kwarg\n",
    "print(U)\n",
    "axs[0].hist(U[0,:], bins=n_bins)\n",
    "axs[1].hist(U[1,:], bins=n_bins)"
   ]
  },
  {
   "cell_type": "code",
   "execution_count": 446,
   "metadata": {},
   "outputs": [
    {
     "name": "stdout",
     "output_type": "stream",
     "text": [
      "[[ 0.21002132  0.08386258]\n",
      " [-0.85264364 -0.9155209 ]]\n",
      "[[ 0.14395364  0.19594542]\n",
      " [-0.98958443 -0.9806148 ]]\n",
      "0.16022200785876914\n"
     ]
    }
   ],
   "source": [
    "A = np.random.normal(0, 1, (2,2))\n",
    "normalize_cols(A)\n",
    "print(A)\n",
    "\n",
    "\n",
    "X = A@Billiard\n",
    "\n",
    "E = Error(X)\n",
    "print(E)\n"
   ]
  },
  {
   "cell_type": "code",
   "execution_count": 447,
   "metadata": {},
   "outputs": [
    {
     "name": "stdout",
     "output_type": "stream",
     "text": [
      "[[-0.19601628 -0.14396594]\n",
      " [ 0.98060064  0.98958264]]\n",
      "0.16020827371093357\n"
     ]
    }
   ],
   "source": [
    "X = A@BallWalk\n",
    "\n",
    "E = Error(X)\n",
    "print(E)"
   ]
  },
  {
   "cell_type": "code",
   "execution_count": 448,
   "metadata": {},
   "outputs": [
    {
     "name": "stdout",
     "output_type": "stream",
     "text": [
      "[[ 0.14454232  0.19662154]\n",
      " [-0.98949862 -0.98047946]]\n",
      "0.1602382110152153\n"
     ]
    }
   ],
   "source": [
    "X = A@HitRun\n",
    "\n",
    "E = Error(X)\n",
    "print(E)"
   ]
  },
  {
   "cell_type": "code",
   "execution_count": 449,
   "metadata": {},
   "outputs": [
    {
     "name": "stdout",
     "output_type": "stream",
     "text": [
      "[[-0.23903705 -0.09070293]\n",
      " [ 0.97101045  0.99587799]]\n",
      "0.14613920438548847\n"
     ]
    }
   ],
   "source": [
    "U = np.random.uniform(0,1,(2,100000))\n",
    "X = A@U\n",
    "\n",
    "E = Error(X)\n",
    "print(E)"
   ]
  },
  {
   "cell_type": "code",
   "execution_count": null,
   "metadata": {},
   "outputs": [],
   "source": []
  }
 ],
 "metadata": {
  "kernelspec": {
   "display_name": "Python 3",
   "language": "python",
   "name": "python3"
  },
  "language_info": {
   "codemirror_mode": {
    "name": "ipython",
    "version": 3
   },
   "file_extension": ".py",
   "mimetype": "text/x-python",
   "name": "python",
   "nbconvert_exporter": "python",
   "pygments_lexer": "ipython3",
   "version": "3.8.3"
  }
 },
 "nbformat": 4,
 "nbformat_minor": 4
}

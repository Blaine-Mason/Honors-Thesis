{
 "cells": [
  {
   "cell_type": "code",
   "execution_count": 204,
   "metadata": {},
   "outputs": [],
   "source": [
    "import numpy as np\n",
    "import pandas as pd"
   ]
  },
  {
   "cell_type": "code",
   "execution_count": 205,
   "metadata": {},
   "outputs": [],
   "source": [
    "import numpy.linalg as la\n",
    "import scipy as scipy\n",
    "from matplotlib import pyplot as plt \n",
    "from scipy import signal\n",
    "from sklearn.decomposition import fastica\n",
    "from itertools import permutations, product\n",
    "from oct2py import octave"
   ]
  },
  {
   "cell_type": "code",
   "execution_count": 354,
   "metadata": {},
   "outputs": [],
   "source": [
    "octave.addpath('~/Documents/Github/Honors-Thesis/fastica');"
   ]
  },
  {
   "cell_type": "code",
   "execution_count": 355,
   "metadata": {},
   "outputs": [],
   "source": [
    "#Thank you so much ninjagecko for this pretty method\n",
    "#to solve all of my problems\n",
    "def plusAndMinusPermutations(items):\n",
    "    for p in permutations(items):\n",
    "        for signs in product([-1,1], repeat=len(items)):\n",
    "            yield [a*sign for a,sign in zip(p,signs)]"
   ]
  },
  {
   "cell_type": "code",
   "execution_count": 356,
   "metadata": {},
   "outputs": [],
   "source": [
    "def Frobenius_Norm(A, A_):\n",
    "    return np.sqrt(np.trace(np.subtract(A, A_)@np.subtract(A,A_).conj().T))"
   ]
  },
  {
   "cell_type": "code",
   "execution_count": 361,
   "metadata": {},
   "outputs": [],
   "source": [
    "def Get_Min(A,A_):\n",
    "    i = np.eye(A.shape[0])\n",
    "    perm = list(plusAndMinusPermutations(i))\n",
    "    min = Frobenius_Norm(A, A_)\n",
    "    for j in perm:\n",
    "        j = np.array(j)\n",
    "        j[j == -0] = 0\n",
    "        mat = A@np.array(j)\n",
    "        temp = Frobenius_Norm(mat, A_)\n",
    "        if(temp < min):\n",
    "            min = temp\n",
    "    return min"
   ]
  },
  {
   "cell_type": "code",
   "execution_count": 358,
   "metadata": {},
   "outputs": [],
   "source": [
    "def normalize_cols(A):\n",
    "    norms = la.norm(A,axis=0)\n",
    "    return A / np.tile(norms,(2,1))"
   ]
  },
  {
   "cell_type": "code",
   "execution_count": 373,
   "metadata": {},
   "outputs": [],
   "source": [
    "def Error(X):\n",
    "    A_EST = np.array(octave.o2pfastica(X))\n",
    "    print(A_EST)\n",
    "    return Get_Min(A_EST, A)"
   ]
  },
  {
   "cell_type": "code",
   "execution_count": 340,
   "metadata": {},
   "outputs": [],
   "source": [
    "BallWalk = pd.read_csv('ball.csv', delimiter=',')\n",
    "BallWalk = BallWalk.to_numpy()\n",
    "BallWalk = BallWalk[:,1:]\n",
    "\n",
    "Billiard = pd.read_csv('bill.csv', delimiter=',')\n",
    "Billiard = Billiard.to_numpy()\n",
    "Billiard = Billiard[:,1:]\n",
    "\n",
    "HitRun = pd.read_csv('hr.csv', delimiter=',')\n",
    "HitRun = HitRun.to_numpy()\n",
    "HitRun = HitRun[:,1:]"
   ]
  },
  {
   "cell_type": "code",
   "execution_count": 372,
   "metadata": {},
   "outputs": [
    {
     "data": {
      "text/plain": [
       "(2, 10000)"
      ]
     },
     "execution_count": 372,
     "metadata": {},
     "output_type": "execute_result"
    }
   ],
   "source": [
    "BallWalk.shape"
   ]
  },
  {
   "cell_type": "code",
   "execution_count": 342,
   "metadata": {},
   "outputs": [
    {
     "name": "stdout",
     "output_type": "stream",
     "text": [
      "[[ 4.15100449 -0.27017018 -3.38853292 ...  6.22347545 -4.79362835\n",
      "  -2.35725515]\n",
      " [ 5.54827496  4.91267758  0.32808323 ...  6.3253579  -4.67792401\n",
      "   2.19753035]]\n"
     ]
    },
    {
     "data": {
      "text/plain": [
       "(array([ 271.,  876., 1237., 1303., 1370., 1335., 1275., 1221.,  816.,\n",
       "         296.]),\n",
       " array([-8.8726646 , -7.10338273, -5.33410086, -3.56481899, -1.79553712,\n",
       "        -0.02625525,  1.74302662,  3.51230849,  5.28159036,  7.05087223,\n",
       "         8.8201541 ]),\n",
       " <a list of 10 Patch objects>)"
      ]
     },
     "execution_count": 342,
     "metadata": {},
     "output_type": "execute_result"
    },
    {
     "data": {
      "image/png": "[encoded data removed]",
      "text/plain": [
       "<Figure size 432x288 with 2 Axes>"
      ]
     },
     "metadata": {
      "needs_background": "light"
     },
     "output_type": "display_data"
    }
   ],
   "source": [
    "n_bins = 10\n",
    "\n",
    "fig, axs = plt.subplots(1, 2, sharey=True, tight_layout=True)\n",
    "\n",
    "# We can set the number of bins with the `bins` kwarg\n",
    "print(BallWalk)\n",
    "axs[0].hist(BallWalk[0,:], bins=n_bins)\n",
    "axs[1].hist(BallWalk[1,:], bins=n_bins)"
   ]
  },
  {
   "cell_type": "code",
   "execution_count": 343,
   "metadata": {},
   "outputs": [
    {
     "data": {
      "text/plain": [
       "(array([ 288.,  828., 1185., 1358., 1336., 1304., 1359., 1212.,  837.,\n",
       "         293.]),\n",
       " array([-8.93695014, -7.16224302, -5.3875359 , -3.61282878, -1.83812166,\n",
       "        -0.06341454,  1.71129258,  3.4859997 ,  5.26070682,  7.03541394,\n",
       "         8.81012105]),\n",
       " <a list of 10 Patch objects>)"
      ]
     },
     "execution_count": 343,
     "metadata": {},
     "output_type": "execute_result"
    },
    {
     "data": {
      "image/png": "[encoded data removed]",
      "text/plain": [
       "<Figure size 432x288 with 2 Axes>"
      ]
     },
     "metadata": {
      "needs_background": "light"
     },
     "output_type": "display_data"
    }
   ],
   "source": [
    "n_bins = 10\n",
    "\n",
    "fig, axs = plt.subplots(1, 2, sharey=True, tight_layout=True)\n",
    "\n",
    "# We can set the number of bins with the `bins` kwarg\n",
    "axs[0].hist(Billiard[0,:], bins=n_bins)\n",
    "axs[1].hist(Billiard[1,:], bins=n_bins)"
   ]
  },
  {
   "cell_type": "code",
   "execution_count": 344,
   "metadata": {},
   "outputs": [
    {
     "data": {
      "text/plain": [
       "(array([ 288.,  842., 1293., 1350., 1343., 1316., 1269., 1155.,  849.,\n",
       "         295.]),\n",
       " array([-8.85328545, -7.07581865, -5.29835185, -3.52088505, -1.74341825,\n",
       "         0.03404855,  1.81151535,  3.58898216,  5.36644896,  7.14391576,\n",
       "         8.92138256]),\n",
       " <a list of 10 Patch objects>)"
      ]
     },
     "execution_count": 344,
     "metadata": {},
     "output_type": "execute_result"
    },
    {
     "data": {
      "image/png": "[encoded data removed]",
      "text/plain": [
       "<Figure size 432x288 with 2 Axes>"
      ]
     },
     "metadata": {
      "needs_background": "light"
     },
     "output_type": "display_data"
    }
   ],
   "source": [
    "n_bins = 10\n",
    "\n",
    "fig, axs = plt.subplots(1, 2, sharey=True, tight_layout=True)\n",
    "\n",
    "# We can set the number of bins with the `bins` kwarg\n",
    "axs[0].hist(HitRun[0,:], bins=n_bins)\n",
    "axs[1].hist(HitRun[1,:], bins=n_bins)"
   ]
  },
  {
   "cell_type": "code",
   "execution_count": 345,
   "metadata": {},
   "outputs": [
    {
     "data": {
      "text/plain": [
       "(array([ 288.,  828., 1185., 1358., 1336., 1304., 1359., 1212.,  837.,\n",
       "         293.]),\n",
       " array([-8.93695014, -7.16224302, -5.3875359 , -3.61282878, -1.83812166,\n",
       "        -0.06341454,  1.71129258,  3.4859997 ,  5.26070682,  7.03541394,\n",
       "         8.81012105]),\n",
       " <a list of 10 Patch objects>)"
      ]
     },
     "execution_count": 345,
     "metadata": {},
     "output_type": "execute_result"
    },
    {
     "data": {
      "image/png": "[encoded data removed]",
      "text/plain": [
       "<Figure size 432x288 with 2 Axes>"
      ]
     },
     "metadata": {
      "needs_background": "light"
     },
     "output_type": "display_data"
    }
   ],
   "source": [
    "n_bins = 10\n",
    "\n",
    "fig, axs = plt.subplots(1, 2, sharey=True, tight_layout=True)\n",
    "\n",
    "# We can set the number of bins with the `bins` kwarg\n",
    "axs[0].hist(Billiard[0,:], bins=n_bins)\n",
    "axs[1].hist(Billiard[1,:], bins=n_bins)"
   ]
  },
  {
   "cell_type": "code",
   "execution_count": 346,
   "metadata": {},
   "outputs": [
    {
     "name": "stdout",
     "output_type": "stream",
     "text": [
      "[[0.71056639 0.84077651 0.55753784 ... 0.6532676  0.50038574 0.47633976]\n",
      " [0.42197648 0.92690985 0.51529225 ... 0.10437901 0.60833659 0.9095353 ]]\n"
     ]
    },
    {
     "data": {
      "text/plain": [
       "(array([61., 62., 56., 75., 70., 68., 68., 76., 61., 66., 68., 65., 66.,\n",
       "        72., 66.]),\n",
       " array([0.00302111, 0.06940965, 0.13579819, 0.20218672, 0.26857526,\n",
       "        0.33496379, 0.40135233, 0.46774086, 0.5341294 , 0.60051793,\n",
       "        0.66690647, 0.73329501, 0.79968354, 0.86607208, 0.93246061,\n",
       "        0.99884915]),\n",
       " <a list of 15 Patch objects>)"
      ]
     },
     "execution_count": 346,
     "metadata": {},
     "output_type": "execute_result"
    },
    {
     "data": {
      "image/png": "[encoded data removed]",
      "text/plain": [
       "<Figure size 432x288 with 2 Axes>"
      ]
     },
     "metadata": {
      "needs_background": "light"
     },
     "output_type": "display_data"
    }
   ],
   "source": [
    "n_bins = 15\n",
    "U = np.random.uniform(0,1,(2,1000))\n",
    "fig, axs = plt.subplots(1, 2, sharey=True, tight_layout=True)\n",
    "\n",
    "# We can set the number of bins with the `bins` kwarg\n",
    "print(U)\n",
    "axs[0].hist(U[0,:], bins=n_bins)\n",
    "axs[1].hist(U[1,:], bins=n_bins)"
   ]
  },
  {
   "cell_type": "code",
   "execution_count": 374,
   "metadata": {},
   "outputs": [
    {
     "name": "stdout",
     "output_type": "stream",
     "text": [
      "[[ 0.82160278  0.48592971]\n",
      " [-0.46791747  0.77538232]]\n",
      "[[-0.88341248  0.9874659 ]\n",
      " [-0.4685962  -0.1578325 ]]\n",
      "0.6130037076090077\n"
     ]
    }
   ],
   "source": [
    "A = np.random.normal(0, 1, (2,2))\n",
    "normalize_cols(A)\n",
    "print(A)\n",
    "\n",
    "\n",
    "X = A@Billiard\n",
    "\n",
    "E = Error(X)\n",
    "print(E)\n"
   ]
  },
  {
   "cell_type": "code",
   "execution_count": 375,
   "metadata": {},
   "outputs": [
    {
     "name": "stdout",
     "output_type": "stream",
     "text": [
      "[[ 0.98427781  0.88748395]\n",
      " [-0.17662729  0.46083862]]\n",
      "0.6095052838387798\n"
     ]
    }
   ],
   "source": [
    "X = A@BallWalk\n",
    "\n",
    "E = Error(X)\n",
    "print(E)"
   ]
  },
  {
   "cell_type": "code",
   "execution_count": 376,
   "metadata": {},
   "outputs": [
    {
     "name": "stdout",
     "output_type": "stream",
     "text": [
      "[[ 0.98316461 -0.89103944]\n",
      " [-0.18272206 -0.45392589]]\n",
      "0.6122799925329547\n"
     ]
    }
   ],
   "source": [
    "X = A@HitRun\n",
    "\n",
    "E = Error(X)\n",
    "print(E)"
   ]
  },
  {
   "cell_type": "code",
   "execution_count": 381,
   "metadata": {},
   "outputs": [
    {
     "name": "stdout",
     "output_type": "stream",
     "text": [
      "[[-0.88347583  0.49777384]\n",
      " [ 0.46847673  0.86730687]]\n",
      "0.11144053861877205\n"
     ]
    }
   ],
   "source": [
    "U = np.random.uniform(0,1,(2,10000))\n",
    "X = A@U\n",
    "\n",
    "E = Error(X)\n",
    "print(E)"
   ]
  },
  {
   "cell_type": "code",
   "execution_count": null,
   "metadata": {},
   "outputs": [],
   "source": []
  }
 ],
 "metadata": {
  "kernelspec": {
   "display_name": "Python 3",
   "language": "python",
   "name": "python3"
  },
  "language_info": {
   "codemirror_mode": {
    "name": "ipython",
    "version": 3
   },
   "file_extension": ".py",
   "mimetype": "text/x-python",
   "name": "python",
   "nbconvert_exporter": "python",
   "pygments_lexer": "ipython3",
   "version": "3.8.3"
  }
 },
 "nbformat": 4,
 "nbformat_minor": 4
}

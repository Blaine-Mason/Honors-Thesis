{
 "cells": [
  {
   "cell_type": "code",
   "execution_count": 2,
   "metadata": {},
   "outputs": [],
   "source": [
    "import numpy as np\n",
    "import numpy.linalg as la\n",
    "import matplotlib.pyplot as plt\n",
    "from scipy.optimize import lsq_linear\n",
    "import numpy.linalg as la\n",
    "import itertools"
   ]
  },
  {
   "cell_type": "code",
   "execution_count": 3,
   "metadata": {},
   "outputs": [],
   "source": [
    "def generate_Z(A):\n",
    "    l = list(itertools.product([-1, 1], repeat=3))\n",
    "    #print(l)\n",
    "    x = np.array(l)\n",
    "    z = A@x.T\n",
    "    plt.plot(z[0,:], z[1,:], \"co\", alpha= 1, markersize=9)"
   ]
  },
  {
   "cell_type": "code",
   "execution_count": 19,
   "metadata": {},
   "outputs": [],
   "source": [
    "def oracle(X, A):\n",
    "    l = list(itertools.product([-1, 1], repeat=3))\n",
    "    L = np.array(l)\n",
    "    Z = A@L.T\n",
    "    #print(Z)\n",
    "    X = X.reshape(2)\n",
    "    print(X)\n",
    "    x = lsq_linear(Z, X, bounds=(-1, 1), verbose = 0)\n",
    "    return(x.cost <= 1e-30)"
   ]
  },
  {
   "cell_type": "code",
   "execution_count": 20,
   "metadata": {},
   "outputs": [
    {
     "name": "stdout",
     "output_type": "stream",
     "text": [
      "[ 6.5106731  -2.30028282]\n",
      "[-3.34661125  1.67104456]\n",
      "[2.88316667 8.98765484]\n",
      "[ 4.05696869 -9.32781123]\n",
      "[6.62620549 0.24140075]\n",
      "[-4.66803948  5.58493493]\n",
      "[-9.68176478 -9.28665311]\n",
      "[-1.29736453  6.2790334 ]\n",
      "[ 7.0008565  -9.68193438]\n",
      "[-8.05383096 -3.00012053]\n"
     ]
    },
    {
     "data": {
      "image/png": "[encoded data removed]",
      "text/plain": [
       "<Figure size 432x288 with 1 Axes>"
      ]
     },
     "metadata": {
      "needs_background": "light"
     },
     "output_type": "display_data"
    }
   ],
   "source": [
    "A = np.array([[0, 3, 4], [4, 3, 1]]);\n",
    "generate_Z(A)\n",
    "U = np.random.uniform(-10,10,(2,10))\n",
    "for x,y in zip(U[0, :], U[1, :]):\n",
    "    point = np.array([[x],[y]])\n",
    "    if(oracle(point, A)):\n",
    "        plt.plot(point[0], point[1], \"go\")\n",
    "    else:\n",
    "        plt.plot(point[0], point[1], \"ro\",  alpha=0.30)\n",
    "plt.show()"
   ]
  },
  {
   "cell_type": "code",
   "execution_count": 44,
   "metadata": {},
   "outputs": [
    {
     "data": {
      "image/png": "[encoded data removed]",
      "text/plain": [
       "<Figure size 432x288 with 1 Axes>"
      ]
     },
     "metadata": {
      "needs_background": "light"
     },
     "output_type": "display_data"
    }
   ],
   "source": [
    "# Make a list/array for the final points\n",
    "#tmpx - random n-stdgaussian, normalized, then scaled by delta(uniform point in the unit sphere)\n",
    "X = np.array([0, 0]).reshape(2,1)\n",
    "A = np.array([[0, 3, 4], [4, 3, 1]]);\n",
    "generate_Z(A)\n",
    "calls = 0\n",
    "pos = X\n",
    "out_pos = X\n",
    "delta = .9\n",
    "for j in range(1,1000):\n",
    "    for i in range(1, 100):\n",
    "        temp = np.random.normal(0,1,(2,1))\n",
    "        temp = temp/la.norm(temp)\n",
    "        temp = temp*delta\n",
    "        tmpx = X + temp \n",
    "        if(oracle(tmpx, A)):\n",
    "            calls = calls + 1\n",
    "            X = tmpx\n",
    "            pos = np.hstack((pos, X))\n",
    "            plt.plot(pos[0, :], pos[1,:], 'ro')\n",
    "        else:\n",
    "            #print(tmpx)\n",
    "            break;\n",
    "\n",
    "plt.show()"
   ]
  },
  {
   "cell_type": "code",
   "execution_count": 45,
   "metadata": {},
   "outputs": [
    {
     "name": "stdout",
     "output_type": "stream",
     "text": [
      "754\n"
     ]
    }
   ],
   "source": [
    "print(calls)"
   ]
  },
  {
   "cell_type": "code",
   "execution_count": null,
   "metadata": {},
   "outputs": [],
   "source": []
  }
 ],
 "metadata": {
  "kernelspec": {
   "display_name": "Python 3",
   "language": "python",
   "name": "python3"
  },
  "language_info": {
   "codemirror_mode": {
    "name": "ipython",
    "version": 3
   },
   "file_extension": ".py",
   "mimetype": "text/x-python",
   "name": "python",
   "nbconvert_exporter": "python",
   "pygments_lexer": "ipython3",
   "version": "3.8.3"
  }
 },
 "nbformat": 4,
 "nbformat_minor": 4
}

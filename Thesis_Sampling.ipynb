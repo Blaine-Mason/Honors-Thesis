{
 "cells": [
  {
   "cell_type": "code",
   "execution_count": 2,
   "metadata": {},
   "outputs": [],
   "source": [
    "library(ggplot2)\n",
    "library(volesti)\n",
    "library(DiceDesign)\n",
    "library(reticulate)\n",
    "library(spatstat)\n",
    "library(BBmisc)\n",
    "library(MEPDF)\n",
    "library(R.utils)"
   ]
  },
  {
   "cell_type": "code",
   "execution_count": 3,
   "metadata": {},
   "outputs": [],
   "source": [
    "G = matrix(as.integer(rnorm(6, mean = 0, sd = 3)), nrow = 3, ncol = 2)\n",
    "G = abs(G) + 1\n",
    "P = Zonotope(G = G)"
   ]
  },
  {
   "cell_type": "code",
   "execution_count": 5,
   "metadata": {
    "scrolled": true
   },
   "outputs": [],
   "source": [
    "samples = 10000\n",
    "\n",
    "#boundary_points = sample_points(P, n=10000, random_walk = list(\"walk\" = \"BRDHR\"))\n",
    "Billiard <- sample_points(P, n = samples, random_walk = list(\"walk\" = 'BiW', \"walk_length\" = w))\n",
    "write.csv(Billiard, file = \"bill.csv\")\n",
    "Ball <- sample_points(P, n = samples, random_walk = list(\"walk\" = 'BaW', \"walk_length\" = w))\n",
    "write.csv(Ball, file = \"ball.csv\")\n",
    "Hit <- sample_points(P, n = samples, random_walk = list(\"walk\" = 'RDHR', \"walk_length\" = w))\n",
    "write.csv(Hit, file = \"hr.csv\")"
   ]
  },
  {
   "cell_type": "code",
   "execution_count": 4,
   "metadata": {},
   "outputs": [
    {
     "name": "stdout",
     "output_type": "stream",
     "text": [
      "[1] 1000\n",
      "[1] 10000\n",
      "[1] 20000\n",
      "[1] 30000\n",
      "[1] 40000\n",
      "[1] 50000\n",
      "[1] 60000\n",
      "[1] 70000\n",
      "[1] 80000\n",
      "[1] 90000\n",
      "[1] 1e+05\n",
      "[1] 110000\n",
      "[1] 120000\n",
      "[1] 130000\n",
      "[1] 140000\n",
      "[1] 150000\n",
      "[1] 1000\n",
      "[1] 10000\n",
      "[1] 20000\n",
      "[1] 30000\n",
      "[1] 40000\n",
      "[1] 50000\n",
      "[1] 60000\n",
      "[1] 70000\n",
      "[1] 80000\n",
      "[1] 90000\n",
      "[1] 1e+05\n",
      "[1] 110000\n",
      "[1] 120000\n",
      "[1] 130000\n",
      "[1] 140000\n",
      "[1] 150000\n",
      "[1] 1000\n",
      "[1] 10000\n",
      "[1] 20000\n",
      "[1] 30000\n",
      "[1] 40000\n",
      "[1] 50000\n",
      "[1] 60000\n",
      "[1] 70000\n",
      "[1] 80000\n",
      "[1] 90000\n",
      "[1] 1e+05\n",
      "[1] 110000\n",
      "[1] 120000\n",
      "[1] 130000\n",
      "[1] 140000\n",
      "[1] 150000\n"
     ]
    }
   ],
   "source": [
    "sampling_time_biw  = c()\n",
    "sampling_time_baw  = c()\n",
    "sampling_time_rdhr  = c()\n",
    "w = 10\n",
    "for (samples in c(1000, seq(from=10000,to=150000,by=10000))) {\n",
    "    tim = system.time({sample_points(P, n = samples, random_walk = list(\"walk\" = 'BiW', \"walk_length\" = w))})\n",
    "    print(samples)\n",
    "    sampling_time_biw = c(sampling_time_biw, as.numeric(tim)[3])\n",
    "}\n",
    "\n",
    "for (samples in c(1000, seq(from=10000,to=150000,by=10000))) {\n",
    "    tim = system.time({sample_points(P, n = samples, random_walk = list(\"walk\" = 'BaW', \"walk_length\" = w))})\n",
    "    print(samples)\n",
    "    sampling_time_baw = c(sampling_time_baw, as.numeric(tim)[3])\n",
    "}\n",
    "for (samples in c(1000, seq(from=10000,to=150000,by=10000))) {\n",
    "    tim = system.time({sample_points(P, n = samples, random_walk = list(\"walk\" = 'RDHR', \"walk_length\" = w))})\n",
    "    print(samples)\n",
    "    sampling_time_rdhr = c(sampling_time_rdhr, as.numeric(tim)[3])\n",
    "}"
   ]
  },
  {
   "cell_type": "code",
   "execution_count": 6,
   "metadata": {},
   "outputs": [
    {
     "data": {
      "text/html": [
       "<ol class=list-inline>\n",
       "\t<li>0.519999999999982</li>\n",
       "\t<li>4.52999999999997</li>\n",
       "\t<li>9.1400000000001</li>\n",
       "\t<li>13.4400000000001</li>\n",
       "\t<li>17.9200000000001</li>\n",
       "\t<li>22.01</li>\n",
       "\t<li>26.3199999999999</li>\n",
       "\t<li>31.6199999999999</li>\n",
       "\t<li>34.9300000000001</li>\n",
       "\t<li>39.5900000000001</li>\n",
       "\t<li>44.1400000000001</li>\n",
       "\t<li>48.01</li>\n",
       "\t<li>52.9099999999999</li>\n",
       "\t<li>56.71</li>\n",
       "\t<li>61.27</li>\n",
       "\t<li>65.74</li>\n",
       "</ol>\n"
      ],
      "text/latex": [
       "\\begin{enumerate*}\n",
       "\\item 0.519999999999982\n",
       "\\item 4.52999999999997\n",
       "\\item 9.1400000000001\n",
       "\\item 13.4400000000001\n",
       "\\item 17.9200000000001\n",
       "\\item 22.01\n",
       "\\item 26.3199999999999\n",
       "\\item 31.6199999999999\n",
       "\\item 34.9300000000001\n",
       "\\item 39.5900000000001\n",
       "\\item 44.1400000000001\n",
       "\\item 48.01\n",
       "\\item 52.9099999999999\n",
       "\\item 56.71\n",
       "\\item 61.27\n",
       "\\item 65.74\n",
       "\\end{enumerate*}\n"
      ],
      "text/markdown": [
       "1. 0.519999999999982\n",
       "2. 4.52999999999997\n",
       "3. 9.1400000000001\n",
       "4. 13.4400000000001\n",
       "5. 17.9200000000001\n",
       "6. 22.01\n",
       "7. 26.3199999999999\n",
       "8. 31.6199999999999\n",
       "9. 34.9300000000001\n",
       "10. 39.5900000000001\n",
       "11. 44.1400000000001\n",
       "12. 48.01\n",
       "13. 52.9099999999999\n",
       "14. 56.71\n",
       "15. 61.27\n",
       "16. 65.74\n",
       "\n",
       "\n"
      ],
      "text/plain": [
       " [1]  0.52  4.53  9.14 13.44 17.92 22.01 26.32 31.62 34.93 39.59 44.14 48.01\n",
       "[13] 52.91 56.71 61.27 65.74"
      ]
     },
     "metadata": {},
     "output_type": "display_data"
    }
   ],
   "source": [
    "sampling_time_rdhr"
   ]
  },
  {
   "cell_type": "code",
   "execution_count": 7,
   "metadata": {},
   "outputs": [
    {
     "data": {
      "text/html": [
       "<ol class=list-inline>\n",
       "\t<li>0.220000000000027</li>\n",
       "\t<li>2.36000000000013</li>\n",
       "\t<li>4.59999999999991</li>\n",
       "\t<li>6.83000000000015</li>\n",
       "\t<li>9.13000000000011</li>\n",
       "\t<li>11.3299999999999</li>\n",
       "\t<li>13.0900000000001</li>\n",
       "\t<li>15.0500000000002</li>\n",
       "\t<li>17.8400000000001</li>\n",
       "\t<li>19.49</li>\n",
       "\t<li>21.52</li>\n",
       "\t<li>23.03</li>\n",
       "\t<li>24.95</li>\n",
       "\t<li>27.03</li>\n",
       "\t<li>30.29</li>\n",
       "\t<li>32.46</li>\n",
       "</ol>\n"
      ],
      "text/latex": [
       "\\begin{enumerate*}\n",
       "\\item 0.220000000000027\n",
       "\\item 2.36000000000013\n",
       "\\item 4.59999999999991\n",
       "\\item 6.83000000000015\n",
       "\\item 9.13000000000011\n",
       "\\item 11.3299999999999\n",
       "\\item 13.0900000000001\n",
       "\\item 15.0500000000002\n",
       "\\item 17.8400000000001\n",
       "\\item 19.49\n",
       "\\item 21.52\n",
       "\\item 23.03\n",
       "\\item 24.95\n",
       "\\item 27.03\n",
       "\\item 30.29\n",
       "\\item 32.46\n",
       "\\end{enumerate*}\n"
      ],
      "text/markdown": [
       "1. 0.220000000000027\n",
       "2. 2.36000000000013\n",
       "3. 4.59999999999991\n",
       "4. 6.83000000000015\n",
       "5. 9.13000000000011\n",
       "6. 11.3299999999999\n",
       "7. 13.0900000000001\n",
       "8. 15.0500000000002\n",
       "9. 17.8400000000001\n",
       "10. 19.49\n",
       "11. 21.52\n",
       "12. 23.03\n",
       "13. 24.95\n",
       "14. 27.03\n",
       "15. 30.29\n",
       "16. 32.46\n",
       "\n",
       "\n"
      ],
      "text/plain": [
       " [1]  0.22  2.36  4.60  6.83  9.13 11.33 13.09 15.05 17.84 19.49 21.52 23.03\n",
       "[13] 24.95 27.03 30.29 32.46"
      ]
     },
     "metadata": {},
     "output_type": "display_data"
    }
   ],
   "source": [
    "sampling_time_baw"
   ]
  },
  {
   "cell_type": "code",
   "execution_count": 8,
   "metadata": {},
   "outputs": [
    {
     "data": {
      "text/html": [
       "<ol class=list-inline>\n",
       "\t<li>1.06</li>\n",
       "\t<li>10.59</li>\n",
       "\t<li>21.01</li>\n",
       "\t<li>31.34</li>\n",
       "\t<li>42.2</li>\n",
       "\t<li>52.42</li>\n",
       "\t<li>63.22</li>\n",
       "\t<li>73.7</li>\n",
       "\t<li>84</li>\n",
       "\t<li>94.29</li>\n",
       "\t<li>105.11</li>\n",
       "\t<li>115.31</li>\n",
       "\t<li>126.16</li>\n",
       "\t<li>141.99</li>\n",
       "\t<li>150.92</li>\n",
       "\t<li>166.56</li>\n",
       "</ol>\n"
      ],
      "text/latex": [
       "\\begin{enumerate*}\n",
       "\\item 1.06\n",
       "\\item 10.59\n",
       "\\item 21.01\n",
       "\\item 31.34\n",
       "\\item 42.2\n",
       "\\item 52.42\n",
       "\\item 63.22\n",
       "\\item 73.7\n",
       "\\item 84\n",
       "\\item 94.29\n",
       "\\item 105.11\n",
       "\\item 115.31\n",
       "\\item 126.16\n",
       "\\item 141.99\n",
       "\\item 150.92\n",
       "\\item 166.56\n",
       "\\end{enumerate*}\n"
      ],
      "text/markdown": [
       "1. 1.06\n",
       "2. 10.59\n",
       "3. 21.01\n",
       "4. 31.34\n",
       "5. 42.2\n",
       "6. 52.42\n",
       "7. 63.22\n",
       "8. 73.7\n",
       "9. 84\n",
       "10. 94.29\n",
       "11. 105.11\n",
       "12. 115.31\n",
       "13. 126.16\n",
       "14. 141.99\n",
       "15. 150.92\n",
       "16. 166.56\n",
       "\n",
       "\n"
      ],
      "text/plain": [
       " [1]   1.06  10.59  21.01  31.34  42.20  52.42  63.22  73.70  84.00  94.29\n",
       "[11] 105.11 115.31 126.16 141.99 150.92 166.56"
      ]
     },
     "metadata": {},
     "output_type": "display_data"
    }
   ],
   "source": [
    "sampling_time_biw"
   ]
  },
  {
   "cell_type": "code",
   "execution_count": null,
   "metadata": {},
   "outputs": [],
   "source": [
    "g <-ggplot(data.frame(x = c(Billiard[1,], boundary_points[1,]),\n",
    "       body = c(rep(\"P\",samples), rep(\"BP\",10000)), y = c(Billiard[2,],\n",
    "       boundary_points[2,])) , aes(x=x, y=y)) +  geom_point(shape=10,size=1, color=c(rep(\"red\",samples),rep(\"black\",10000))) + \n",
    "       coord_fixed(xlim = c(-10,10), ylim = c(-10,10)) + ggtitle(sprintf(\"Walk Length = %s, Walk = %s\", w, 'Billard Walk'))\n",
    "g1 <-ggplot(data.frame(x = c(Ball[1,], boundary_points[1,]),\n",
    "       body = c(rep(\"P\",samples), rep(\"BP\",10000)), y = c(Ball[2,],\n",
    "       boundary_points[2,])) , aes(x=x, y=y)) +  geom_point(shape=10,size=1, color=c(rep(\"red\",samples),rep(\"black\",10000))) + \n",
    "       coord_fixed(xlim = c(-10,10), ylim = c(-10,10)) + ggtitle(sprintf(\"Walk Length = %s, Walk = %s\", w, 'Ball Walk'))\n",
    "g2 <-ggplot(data.frame(x = c(Hit[1,], boundary_points[1,]),\n",
    "       body = c(rep(\"P\",samples), rep(\"BP\",10000)), y = c(Hit[2,],\n",
    "       boundary_points[2,])) , aes(x=x, y=y)) +  geom_point(shape=10,size=1, color=c(rep(\"red\",samples),rep(\"black\",10000))) + \n",
    "       coord_fixed(xlim = c(-10,10), ylim = c(-10,10)) + ggtitle(sprintf(\"Walk Length = %s, Walk = %s\", w, 'Random Direction Hit and Run'))"
   ]
  },
  {
   "cell_type": "code",
   "execution_count": null,
   "metadata": {},
   "outputs": [],
   "source": []
  },
  {
   "cell_type": "code",
   "execution_count": null,
   "metadata": {},
   "outputs": [],
   "source": [
    "g"
   ]
  },
  {
   "cell_type": "code",
   "execution_count": null,
   "metadata": {},
   "outputs": [],
   "source": [
    "g1"
   ]
  },
  {
   "cell_type": "code",
   "execution_count": null,
   "metadata": {
    "scrolled": false
   },
   "outputs": [],
   "source": [
    "g2"
   ]
  },
  {
   "cell_type": "code",
   "execution_count": null,
   "metadata": {},
   "outputs": [],
   "source": [
    "Ux = runif(samples, min = -10, max = 10)\n",
    "Uy = runif(samples, min = -10, max = 10)"
   ]
  },
  {
   "cell_type": "code",
   "execution_count": null,
   "metadata": {
    "scrolled": true
   },
   "outputs": [],
   "source": [
    "printf(\"The Difference Between Billiard Walk and Ball Walks Samples\\n\")\n",
    "d <- ks.test(Billiard[1,], Ball[1,])\n",
    "printf(\"P = %.2f\\n\", ks.test(Billiard[1,], Ball[1,])$p.value)\n",
    "printf(\"P = %.2f\\n\", ks.test(Billiard[2,], Ball[2,])$p.value)\n",
    "printf(\"*****************************************************************************\\n\")\n",
    "printf(\"The Difference Between Random Direction Hit and Run and Billiard Walk Samples\\n\")\n",
    "printf(\"P = %.2f\\n\", ks.test(Hit[1,], Billiard[1,])$p.value)\n",
    "printf(\"P = %.2f\\n\", ks.test(Hit[2,], Billiard[2,])$p.value)\n",
    "printf(\"*****************************************************************************\\n\")\n",
    "printf(\"The Difference Between Ball Walk and Random Direction Hit and Run Samples\\n\")\n",
    "printf(\"P = %.2f\\n\", ks.test(Ball[1,], Hit[1,])$p.value)\n",
    "printf(\"P = %.2f\\n\", ks.test(Ball[2,], Hit[2,])$p.value)"
   ]
  },
  {
   "cell_type": "code",
   "execution_count": null,
   "metadata": {},
   "outputs": [],
   "source": [
    "par(mfrow=c(2,3))\n",
    "plot(ecdf(Billiard), col=\"blue\")\n",
    "lines(ecdf(runif(samples, min = -8, max = 8)))\n",
    "plot(ecdf(Ball), col=\"blue\")\n",
    "lines(ecdf(runif(samples, min = -8, max = 8)))\n",
    "plot(ecdf(Hit), col=\"blue\")\n",
    "lines(ecdf(runif(samples, min = -8, max = 8)))\n",
    "df <- approxfun(density(Billiard))\n",
    "plot(density(Billiard))\n",
    "df <- approxfun(density(Ball))\n",
    "plot(density(Ball))\n",
    "df <- approxfun(density(Hit))\n",
    "plot(density(Hit))"
   ]
  },
  {
   "cell_type": "code",
   "execution_count": null,
   "metadata": {},
   "outputs": [],
   "source": [
    "exact_vol(P)"
   ]
  },
  {
   "cell_type": "code",
   "execution_count": null,
   "metadata": {},
   "outputs": [],
   "source": []
  }
 ],
 "metadata": {
  "kernelspec": {
   "display_name": "R",
   "language": "R",
   "name": "ir"
  },
  "language_info": {
   "codemirror_mode": "r",
   "file_extension": ".r",
   "mimetype": "text/x-r-source",
   "name": "R",
   "pygments_lexer": "r",
   "version": "3.6.1"
  }
 },
 "nbformat": 4,
 "nbformat_minor": 4
}

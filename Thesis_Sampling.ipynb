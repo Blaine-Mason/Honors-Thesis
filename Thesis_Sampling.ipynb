{
 "cells": [
  {
   "cell_type": "code",
   "execution_count": 3,
   "metadata": {},
   "outputs": [],
   "source": [
    "library(ggplot2)\n",
    "library(volesti)\n",
    "library(DiceDesign)\n",
    "library(reticulate)\n",
    "library(spatstat)\n",
    "library(BBmisc)\n",
    "library(MEPDF)\n",
    "library(R.utils)"
   ]
  },
  {
   "cell_type": "code",
   "execution_count": 4,
   "metadata": {},
   "outputs": [],
   "source": [
    "G = matrix(as.integer(rnorm(6, mean = 0, sd = 3)), nrow = 3, ncol = 2)\n",
    "G = abs(G) + 1\n",
    "P = Zonotope(G = G)"
   ]
  },
  {
   "cell_type": "code",
   "execution_count": 19,
   "metadata": {
    "scrolled": true
   },
   "outputs": [],
   "source": [
    "samples = 1000\n",
    "w = 100\n",
    "#boundary_points = sample_points(P, n=10000, random_walk = list(\"walk\" = \"BRDHR\"))\n",
    "Billiard <- sample_points(P, n = samples, random_walk = list(\"walk\" = 'BiW', \"walk_length\" = w))\n",
    "write.csv(Billiard, file = \"bill.csv\")\n",
    "Ball <- sample_points(P, n = samples, random_walk = list(\"walk\" = 'BaW', \"walk_length\" = w))\n",
    "write.csv(Ball, file = \"ball.csv\")\n",
    "Hit <- sample_points(P, n = samples, random_walk = list(\"walk\" = 'RDHR', \"walk_length\" = w))\n",
    "write.csv(Hit, file = \"hr.csv\")"
   ]
  },
  {
   "cell_type": "code",
   "execution_count": 14,
   "metadata": {},
   "outputs": [
    {
     "name": "stdout",
     "output_type": "stream",
     "text": [
      "[1] 1000\n",
      "[1] 10000\n",
      "[1] 20000\n",
      "[1] 30000\n",
      "[1] 40000\n",
      "[1] 50000\n",
      "[1] 60000\n",
      "[1] 70000\n",
      "[1] 80000\n",
      "[1] 90000\n",
      "[1] 1e+05\n",
      "[1] 110000\n",
      "[1] 120000\n",
      "[1] 130000\n",
      "[1] 140000\n",
      "[1] 150000\n",
      "[1] 1000\n",
      "[1] 10000\n",
      "[1] 20000\n",
      "[1] 30000\n",
      "[1] 40000\n",
      "[1] 50000\n",
      "[1] 60000\n",
      "[1] 70000\n",
      "[1] 80000\n",
      "[1] 90000\n",
      "[1] 1e+05\n",
      "[1] 110000\n",
      "[1] 120000\n",
      "[1] 130000\n",
      "[1] 140000\n",
      "[1] 150000\n",
      "[1] 1000\n",
      "[1] 10000\n",
      "[1] 20000\n",
      "[1] 30000\n",
      "[1] 40000\n",
      "[1] 50000\n",
      "[1] 60000\n",
      "[1] 70000\n",
      "[1] 80000\n",
      "[1] 90000\n",
      "[1] 1e+05\n",
      "[1] 110000\n",
      "[1] 120000\n",
      "[1] 130000\n",
      "[1] 140000\n",
      "[1] 150000\n"
     ]
    }
   ],
   "source": [
    "sampling_time_biw  = c()\n",
    "sampling_time_baw  = c()\n",
    "sampling_time_rdhr  = c()\n",
    "w = 10\n",
    "for (samples in c(1000, seq(from=10000,to=150000,by=10000))) {\n",
    "    tim = system.time({sample_points(P, n = samples, random_walk = list(\"walk\" = 'BiW', \"walk_length\" = w))})\n",
    "    print(samples)\n",
    "    sampling_time_biw = c(sampling_time_biw, as.numeric(tim)[3])\n",
    "}\n",
    "\n",
    "for (samples in c(1000, seq(from=10000,to=150000,by=10000))) {\n",
    "    tim = system.time({sample_points(P, n = samples, random_walk = list(\"walk\" = 'BaW', \"walk_length\" = w))})\n",
    "    print(samples)\n",
    "    sampling_time_baw = c(sampling_time_baw, as.numeric(tim)[3])\n",
    "}\n",
    "for (samples in c(1000, seq(from=10000,to=150000,by=10000))) {\n",
    "    tim = system.time({sample_points(P, n = samples, random_walk = list(\"walk\" = 'RDHR', \"walk_length\" = w))})\n",
    "    print(samples)\n",
    "    sampling_time_rdhr = c(sampling_time_rdhr, as.numeric(tim)[3])\n",
    "}"
   ]
  },
  {
   "cell_type": "code",
   "execution_count": 15,
   "metadata": {},
   "outputs": [
    {
     "data": {
      "text/html": [
       "<ol class=list-inline>\n",
       "\t<li>0.510000000000218</li>\n",
       "\t<li>5.11999999999989</li>\n",
       "\t<li>10.1900000000001</li>\n",
       "\t<li>15.3800000000001</li>\n",
       "\t<li>20.5100000000002</li>\n",
       "\t<li>25.7199999999998</li>\n",
       "\t<li>30.8000000000002</li>\n",
       "\t<li>35.9699999999998</li>\n",
       "\t<li>42.46</li>\n",
       "\t<li>46.6900000000001</li>\n",
       "\t<li>52.0700000000002</li>\n",
       "\t<li>57.25</li>\n",
       "\t<li>62</li>\n",
       "\t<li>67.4100000000008</li>\n",
       "\t<li>72.4099999999999</li>\n",
       "\t<li>77.5099999999993</li>\n",
       "</ol>\n"
      ],
      "text/latex": [
       "\\begin{enumerate*}\n",
       "\\item 0.510000000000218\n",
       "\\item 5.11999999999989\n",
       "\\item 10.1900000000001\n",
       "\\item 15.3800000000001\n",
       "\\item 20.5100000000002\n",
       "\\item 25.7199999999998\n",
       "\\item 30.8000000000002\n",
       "\\item 35.9699999999998\n",
       "\\item 42.46\n",
       "\\item 46.6900000000001\n",
       "\\item 52.0700000000002\n",
       "\\item 57.25\n",
       "\\item 62\n",
       "\\item 67.4100000000008\n",
       "\\item 72.4099999999999\n",
       "\\item 77.5099999999993\n",
       "\\end{enumerate*}\n"
      ],
      "text/markdown": [
       "1. 0.510000000000218\n",
       "2. 5.11999999999989\n",
       "3. 10.1900000000001\n",
       "4. 15.3800000000001\n",
       "5. 20.5100000000002\n",
       "6. 25.7199999999998\n",
       "7. 30.8000000000002\n",
       "8. 35.9699999999998\n",
       "9. 42.46\n",
       "10. 46.6900000000001\n",
       "11. 52.0700000000002\n",
       "12. 57.25\n",
       "13. 62\n",
       "14. 67.4100000000008\n",
       "15. 72.4099999999999\n",
       "16. 77.5099999999993\n",
       "\n",
       "\n"
      ],
      "text/plain": [
       " [1]  0.51  5.12 10.19 15.38 20.51 25.72 30.80 35.97 42.46 46.69 52.07 57.25\n",
       "[13] 62.00 67.41 72.41 77.51"
      ]
     },
     "metadata": {},
     "output_type": "display_data"
    }
   ],
   "source": [
    "sampling_time_rdhr"
   ]
  },
  {
   "cell_type": "code",
   "execution_count": 16,
   "metadata": {},
   "outputs": [
    {
     "data": {
      "text/html": [
       "<ol class=list-inline>\n",
       "\t<li>0.259999999999764</li>\n",
       "\t<li>2.61999999999989</li>\n",
       "\t<li>5.20000000000027</li>\n",
       "\t<li>7.84000000000015</li>\n",
       "\t<li>10.46</li>\n",
       "\t<li>13.1300000000001</li>\n",
       "\t<li>15.73</li>\n",
       "\t<li>18.3599999999997</li>\n",
       "\t<li>20.9400000000001</li>\n",
       "\t<li>23.6499999999996</li>\n",
       "\t<li>26.3600000000001</li>\n",
       "\t<li>28.9400000000001</li>\n",
       "\t<li>31.4900000000002</li>\n",
       "\t<li>34.4699999999998</li>\n",
       "\t<li>36.8499999999999</li>\n",
       "\t<li>39.8099999999999</li>\n",
       "</ol>\n"
      ],
      "text/latex": [
       "\\begin{enumerate*}\n",
       "\\item 0.259999999999764\n",
       "\\item 2.61999999999989\n",
       "\\item 5.20000000000027\n",
       "\\item 7.84000000000015\n",
       "\\item 10.46\n",
       "\\item 13.1300000000001\n",
       "\\item 15.73\n",
       "\\item 18.3599999999997\n",
       "\\item 20.9400000000001\n",
       "\\item 23.6499999999996\n",
       "\\item 26.3600000000001\n",
       "\\item 28.9400000000001\n",
       "\\item 31.4900000000002\n",
       "\\item 34.4699999999998\n",
       "\\item 36.8499999999999\n",
       "\\item 39.8099999999999\n",
       "\\end{enumerate*}\n"
      ],
      "text/markdown": [
       "1. 0.259999999999764\n",
       "2. 2.61999999999989\n",
       "3. 5.20000000000027\n",
       "4. 7.84000000000015\n",
       "5. 10.46\n",
       "6. 13.1300000000001\n",
       "7. 15.73\n",
       "8. 18.3599999999997\n",
       "9. 20.9400000000001\n",
       "10. 23.6499999999996\n",
       "11. 26.3600000000001\n",
       "12. 28.9400000000001\n",
       "13. 31.4900000000002\n",
       "14. 34.4699999999998\n",
       "15. 36.8499999999999\n",
       "16. 39.8099999999999\n",
       "\n",
       "\n"
      ],
      "text/plain": [
       " [1]  0.26  2.62  5.20  7.84 10.46 13.13 15.73 18.36 20.94 23.65 26.36 28.94\n",
       "[13] 31.49 34.47 36.85 39.81"
      ]
     },
     "metadata": {},
     "output_type": "display_data"
    }
   ],
   "source": [
    "sampling_time_baw"
   ]
  },
  {
   "cell_type": "code",
   "execution_count": 17,
   "metadata": {},
   "outputs": [
    {
     "data": {
      "text/html": [
       "<ol class=list-inline>\n",
       "\t<li>0.940000000000055</li>\n",
       "\t<li>9.17000000000007</li>\n",
       "\t<li>18.4199999999996</li>\n",
       "\t<li>27.6900000000001</li>\n",
       "\t<li>36.8000000000002</li>\n",
       "\t<li>46.1299999999997</li>\n",
       "\t<li>55.5599999999999</li>\n",
       "\t<li>64.6400000000003</li>\n",
       "\t<li>74.1000000000004</li>\n",
       "\t<li>82.9699999999998</li>\n",
       "\t<li>92.73</li>\n",
       "\t<li>101.99</li>\n",
       "\t<li>111.05</li>\n",
       "\t<li>120.09</li>\n",
       "\t<li>129.47</li>\n",
       "\t<li>138.86</li>\n",
       "</ol>\n"
      ],
      "text/latex": [
       "\\begin{enumerate*}\n",
       "\\item 0.940000000000055\n",
       "\\item 9.17000000000007\n",
       "\\item 18.4199999999996\n",
       "\\item 27.6900000000001\n",
       "\\item 36.8000000000002\n",
       "\\item 46.1299999999997\n",
       "\\item 55.5599999999999\n",
       "\\item 64.6400000000003\n",
       "\\item 74.1000000000004\n",
       "\\item 82.9699999999998\n",
       "\\item 92.73\n",
       "\\item 101.99\n",
       "\\item 111.05\n",
       "\\item 120.09\n",
       "\\item 129.47\n",
       "\\item 138.86\n",
       "\\end{enumerate*}\n"
      ],
      "text/markdown": [
       "1. 0.940000000000055\n",
       "2. 9.17000000000007\n",
       "3. 18.4199999999996\n",
       "4. 27.6900000000001\n",
       "5. 36.8000000000002\n",
       "6. 46.1299999999997\n",
       "7. 55.5599999999999\n",
       "8. 64.6400000000003\n",
       "9. 74.1000000000004\n",
       "10. 82.9699999999998\n",
       "11. 92.73\n",
       "12. 101.99\n",
       "13. 111.05\n",
       "14. 120.09\n",
       "15. 129.47\n",
       "16. 138.86\n",
       "\n",
       "\n"
      ],
      "text/plain": [
       " [1]   0.94   9.17  18.42  27.69  36.80  46.13  55.56  64.64  74.10  82.97\n",
       "[11]  92.73 101.99 111.05 120.09 129.47 138.86"
      ]
     },
     "metadata": {},
     "output_type": "display_data"
    }
   ],
   "source": [
    "sampling_time_biw"
   ]
  },
  {
   "cell_type": "code",
   "execution_count": null,
   "metadata": {},
   "outputs": [],
   "source": [
    "g <-ggplot(data.frame(x = c(Billiard[1,], boundary_points[1,]),\n",
    "       body = c(rep(\"P\",samples), rep(\"BP\",10000)), y = c(Billiard[2,],\n",
    "       boundary_points[2,])) , aes(x=x, y=y)) +  geom_point(shape=10,size=1, color=c(rep(\"red\",samples),rep(\"black\",10000))) + \n",
    "       coord_fixed(xlim = c(-10,10), ylim = c(-10,10)) + ggtitle(sprintf(\"Walk Length = %s, Walk = %s\", w, 'Billard Walk'))\n",
    "g1 <-ggplot(data.frame(x = c(Ball[1,], boundary_points[1,]),\n",
    "       body = c(rep(\"P\",samples), rep(\"BP\",10000)), y = c(Ball[2,],\n",
    "       boundary_points[2,])) , aes(x=x, y=y)) +  geom_point(shape=10,size=1, color=c(rep(\"red\",samples),rep(\"black\",10000))) + \n",
    "       coord_fixed(xlim = c(-10,10), ylim = c(-10,10)) + ggtitle(sprintf(\"Walk Length = %s, Walk = %s\", w, 'Ball Walk'))\n",
    "g2 <-ggplot(data.frame(x = c(Hit[1,], boundary_points[1,]),\n",
    "       body = c(rep(\"P\",samples), rep(\"BP\",10000)), y = c(Hit[2,],\n",
    "       boundary_points[2,])) , aes(x=x, y=y)) +  geom_point(shape=10,size=1, color=c(rep(\"red\",samples),rep(\"black\",10000))) + \n",
    "       coord_fixed(xlim = c(-10,10), ylim = c(-10,10)) + ggtitle(sprintf(\"Walk Length = %s, Walk = %s\", w, 'Random Direction Hit and Run'))"
   ]
  },
  {
   "cell_type": "code",
   "execution_count": null,
   "metadata": {},
   "outputs": [],
   "source": []
  },
  {
   "cell_type": "code",
   "execution_count": null,
   "metadata": {},
   "outputs": [],
   "source": [
    "g"
   ]
  },
  {
   "cell_type": "code",
   "execution_count": null,
   "metadata": {},
   "outputs": [],
   "source": [
    "g1"
   ]
  },
  {
   "cell_type": "code",
   "execution_count": null,
   "metadata": {},
   "outputs": [],
   "source": [
    "g2"
   ]
  },
  {
   "cell_type": "code",
   "execution_count": null,
   "metadata": {},
   "outputs": [],
   "source": [
    "Ux = runif(samples, min = -10, max = 10)\n",
    "Uy = runif(samples, min = -10, max = 10)"
   ]
  },
  {
   "cell_type": "code",
   "execution_count": null,
   "metadata": {
    "scrolled": true
   },
   "outputs": [],
   "source": [
    "printf(\"The Difference Between Billiard Walk and Ball Walks Samples\\n\")\n",
    "d <- ks.test(Billiard[1,], Ball[1,])\n",
    "printf(\"P = %.2f\\n\", ks.test(Billiard[1,], Ball[1,])$p.value)\n",
    "printf(\"P = %.2f\\n\", ks.test(Billiard[2,], Ball[2,])$p.value)\n",
    "printf(\"*****************************************************************************\\n\")\n",
    "printf(\"The Difference Between Random Direction Hit and Run and Billiard Walk Samples\\n\")\n",
    "printf(\"P = %.2f\\n\", ks.test(Hit[1,], Billiard[1,])$p.value)\n",
    "printf(\"P = %.2f\\n\", ks.test(Hit[2,], Billiard[2,])$p.value)\n",
    "printf(\"*****************************************************************************\\n\")\n",
    "printf(\"The Difference Between Ball Walk and Random Direction Hit and Run Samples\\n\")\n",
    "printf(\"P = %.2f\\n\", ks.test(Ball[1,], Hit[1,])$p.value)\n",
    "printf(\"P = %.2f\\n\", ks.test(Ball[2,], Hit[2,])$p.value)"
   ]
  },
  {
   "cell_type": "code",
   "execution_count": null,
   "metadata": {},
   "outputs": [],
   "source": [
    "par(mfrow=c(2,3))\n",
    "plot(ecdf(Billiard), col=\"blue\")\n",
    "lines(ecdf(runif(samples, min = -8, max = 8)))\n",
    "plot(ecdf(Ball), col=\"blue\")\n",
    "lines(ecdf(runif(samples, min = -8, max = 8)))\n",
    "plot(ecdf(Hit), col=\"blue\")\n",
    "lines(ecdf(runif(samples, min = -8, max = 8)))\n",
    "df <- approxfun(density(Billiard))\n",
    "plot(density(Billiard))\n",
    "df <- approxfun(density(Ball))\n",
    "plot(density(Ball))\n",
    "df <- approxfun(density(Hit))\n",
    "plot(density(Hit))"
   ]
  },
  {
   "cell_type": "code",
   "execution_count": null,
   "metadata": {},
   "outputs": [],
   "source": [
    "exact_vol(P)"
   ]
  },
  {
   "cell_type": "code",
   "execution_count": null,
   "metadata": {},
   "outputs": [],
   "source": []
  }
 ],
 "metadata": {
  "kernelspec": {
   "display_name": "R",
   "language": "R",
   "name": "ir"
  },
  "language_info": {
   "codemirror_mode": "r",
   "file_extension": ".r",
   "mimetype": "text/x-r-source",
   "name": "R",
   "pygments_lexer": "r",
   "version": "3.6.1"
  }
 },
 "nbformat": 4,
 "nbformat_minor": 4
}
